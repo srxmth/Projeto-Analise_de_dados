{
  "nbformat": 4,
  "nbformat_minor": 0,
  "metadata": {
    "colab": {
      "provenance": [],
      "mount_file_id": "1Qn3Zr_PMmg7OJFzLsrhSVh6U5NbrjCYM",
      "authorship_tag": "ABX9TyNBnGiljbKHwIXXHqM5rIIW",
      "include_colab_link": true
    },
    "kernelspec": {
      "name": "python3",
      "display_name": "Python 3"
    },
    "language_info": {
      "name": "python"
    }
  },
  "cells": [
    {
      "cell_type": "markdown",
      "metadata": {
        "id": "view-in-github",
        "colab_type": "text"
      },
      "source": [
        "<a href=\"https://colab.research.google.com/github/srxmth/Projeto-Analise_de_dados/blob/main/Ultima.ipynb\" target=\"_parent\"><img src=\"https://colab.research.google.com/assets/colab-badge.svg\" alt=\"Open In Colab\"/></a>"
      ]
    },
    {
      "cell_type": "code",
      "execution_count": 1,
      "metadata": {
        "id": "tjSQID_b16jD"
      },
      "outputs": [],
      "source": [
        "import pandas as pd\n",
        "import numpy as np\n",
        "import matplotlib.pyplot as plt\n",
        "import seaborn as sn"
      ]
    },
    {
      "cell_type": "code",
      "source": [
        "mth = pd.read_csv('/content/drive/MyDrive/Power bi/df_exemplo_m2w1.csv' ,delim_whitespace=True)\n",
        "mth_filter = mth"
      ],
      "metadata": {
        "id": "LE8pw01Y2kXL"
      },
      "execution_count": 2,
      "outputs": []
    },
    {
      "cell_type": "code",
      "source": [
        "mth_filter"
      ],
      "metadata": {
        "colab": {
          "base_uri": "https://localhost:8080/",
          "height": 424
        },
        "id": "KzARWGC93FY3",
        "outputId": "d235e589-1137-4812-d17b-ebb6f9386b88"
      },
      "execution_count": 3,
      "outputs": [
        {
          "output_type": "execute_result",
          "data": {
            "text/plain": [
              "      Sta_ID                                Depth_ID  Depthm  T_degC  O2Sat  \\\n",
              "44.0    48.5  19-4904CR-HY-087-0606-04400485-0000B-3       0   10.30   92.8   \n",
              "44.0    48.5  19-4904CR-HY-087-0606-04400485-0006A-3       6   18.46  111.8   \n",
              "44.0    48.5  19-4904CR-HY-087-0606-04400485-0010A-7      10   10.29   95.0   \n",
              "44.0    48.5  19-4904CR-HY-087-0606-04400485-0015A-3      15   10.29   95.3   \n",
              "44.0    48.5  19-4904CR-HY-087-0606-04400485-0020A-7      20   10.33   95.1   \n",
              "...      ...                                     ...     ...     ...    ...   \n",
              "36.7   115.0  19-4911BD-HY-318-2130-03671150-0921A-3     921    3.91    4.8   \n",
              "36.7   115.0  19-4911BD-HY-318-2130-03671150-1000A-7    1000    3.73    5.4   \n",
              "36.7   115.0  19-4911BD-HY-318-2130-03671150-1100A-7    1100    3.51    6.4   \n",
              "36.7   115.0  19-4911BD-HY-318-2130-03671150-1200A-7    1200    3.29    7.3   \n",
              "36.7   115.0  19-4911BD-HY-318-2130-03671150-1247A-3    1247    3.18    7.6   \n",
              "\n",
              "      Salnty  \n",
              "44.0  33.030  \n",
              "44.0  32.920  \n",
              "44.0  32.951  \n",
              "44.0  32.990  \n",
              "44.0  33.005  \n",
              "...      ...  \n",
              "36.7  34.370  \n",
              "36.7  34.401  \n",
              "36.7  34.440  \n",
              "36.7  34.481  \n",
              "36.7  34.500  \n",
              "\n",
              "[774 rows x 6 columns]"
            ],
            "text/html": [
              "\n",
              "  <div id=\"df-6de90ac7-8898-4c01-a0a7-6f382d394705\">\n",
              "    <div class=\"colab-df-container\">\n",
              "      <div>\n",
              "<style scoped>\n",
              "    .dataframe tbody tr th:only-of-type {\n",
              "        vertical-align: middle;\n",
              "    }\n",
              "\n",
              "    .dataframe tbody tr th {\n",
              "        vertical-align: top;\n",
              "    }\n",
              "\n",
              "    .dataframe thead th {\n",
              "        text-align: right;\n",
              "    }\n",
              "</style>\n",
              "<table border=\"1\" class=\"dataframe\">\n",
              "  <thead>\n",
              "    <tr style=\"text-align: right;\">\n",
              "      <th></th>\n",
              "      <th>Sta_ID</th>\n",
              "      <th>Depth_ID</th>\n",
              "      <th>Depthm</th>\n",
              "      <th>T_degC</th>\n",
              "      <th>O2Sat</th>\n",
              "      <th>Salnty</th>\n",
              "    </tr>\n",
              "  </thead>\n",
              "  <tbody>\n",
              "    <tr>\n",
              "      <th>44.0</th>\n",
              "      <td>48.5</td>\n",
              "      <td>19-4904CR-HY-087-0606-04400485-0000B-3</td>\n",
              "      <td>0</td>\n",
              "      <td>10.30</td>\n",
              "      <td>92.8</td>\n",
              "      <td>33.030</td>\n",
              "    </tr>\n",
              "    <tr>\n",
              "      <th>44.0</th>\n",
              "      <td>48.5</td>\n",
              "      <td>19-4904CR-HY-087-0606-04400485-0006A-3</td>\n",
              "      <td>6</td>\n",
              "      <td>18.46</td>\n",
              "      <td>111.8</td>\n",
              "      <td>32.920</td>\n",
              "    </tr>\n",
              "    <tr>\n",
              "      <th>44.0</th>\n",
              "      <td>48.5</td>\n",
              "      <td>19-4904CR-HY-087-0606-04400485-0010A-7</td>\n",
              "      <td>10</td>\n",
              "      <td>10.29</td>\n",
              "      <td>95.0</td>\n",
              "      <td>32.951</td>\n",
              "    </tr>\n",
              "    <tr>\n",
              "      <th>44.0</th>\n",
              "      <td>48.5</td>\n",
              "      <td>19-4904CR-HY-087-0606-04400485-0015A-3</td>\n",
              "      <td>15</td>\n",
              "      <td>10.29</td>\n",
              "      <td>95.3</td>\n",
              "      <td>32.990</td>\n",
              "    </tr>\n",
              "    <tr>\n",
              "      <th>44.0</th>\n",
              "      <td>48.5</td>\n",
              "      <td>19-4904CR-HY-087-0606-04400485-0020A-7</td>\n",
              "      <td>20</td>\n",
              "      <td>10.33</td>\n",
              "      <td>95.1</td>\n",
              "      <td>33.005</td>\n",
              "    </tr>\n",
              "    <tr>\n",
              "      <th>...</th>\n",
              "      <td>...</td>\n",
              "      <td>...</td>\n",
              "      <td>...</td>\n",
              "      <td>...</td>\n",
              "      <td>...</td>\n",
              "      <td>...</td>\n",
              "    </tr>\n",
              "    <tr>\n",
              "      <th>36.7</th>\n",
              "      <td>115.0</td>\n",
              "      <td>19-4911BD-HY-318-2130-03671150-0921A-3</td>\n",
              "      <td>921</td>\n",
              "      <td>3.91</td>\n",
              "      <td>4.8</td>\n",
              "      <td>34.370</td>\n",
              "    </tr>\n",
              "    <tr>\n",
              "      <th>36.7</th>\n",
              "      <td>115.0</td>\n",
              "      <td>19-4911BD-HY-318-2130-03671150-1000A-7</td>\n",
              "      <td>1000</td>\n",
              "      <td>3.73</td>\n",
              "      <td>5.4</td>\n",
              "      <td>34.401</td>\n",
              "    </tr>\n",
              "    <tr>\n",
              "      <th>36.7</th>\n",
              "      <td>115.0</td>\n",
              "      <td>19-4911BD-HY-318-2130-03671150-1100A-7</td>\n",
              "      <td>1100</td>\n",
              "      <td>3.51</td>\n",
              "      <td>6.4</td>\n",
              "      <td>34.440</td>\n",
              "    </tr>\n",
              "    <tr>\n",
              "      <th>36.7</th>\n",
              "      <td>115.0</td>\n",
              "      <td>19-4911BD-HY-318-2130-03671150-1200A-7</td>\n",
              "      <td>1200</td>\n",
              "      <td>3.29</td>\n",
              "      <td>7.3</td>\n",
              "      <td>34.481</td>\n",
              "    </tr>\n",
              "    <tr>\n",
              "      <th>36.7</th>\n",
              "      <td>115.0</td>\n",
              "      <td>19-4911BD-HY-318-2130-03671150-1247A-3</td>\n",
              "      <td>1247</td>\n",
              "      <td>3.18</td>\n",
              "      <td>7.6</td>\n",
              "      <td>34.500</td>\n",
              "    </tr>\n",
              "  </tbody>\n",
              "</table>\n",
              "<p>774 rows × 6 columns</p>\n",
              "</div>\n",
              "      <button class=\"colab-df-convert\" onclick=\"convertToInteractive('df-6de90ac7-8898-4c01-a0a7-6f382d394705')\"\n",
              "              title=\"Convert this dataframe to an interactive table.\"\n",
              "              style=\"display:none;\">\n",
              "        \n",
              "  <svg xmlns=\"http://www.w3.org/2000/svg\" height=\"24px\"viewBox=\"0 0 24 24\"\n",
              "       width=\"24px\">\n",
              "    <path d=\"M0 0h24v24H0V0z\" fill=\"none\"/>\n",
              "    <path d=\"M18.56 5.44l.94 2.06.94-2.06 2.06-.94-2.06-.94-.94-2.06-.94 2.06-2.06.94zm-11 1L8.5 8.5l.94-2.06 2.06-.94-2.06-.94L8.5 2.5l-.94 2.06-2.06.94zm10 10l.94 2.06.94-2.06 2.06-.94-2.06-.94-.94-2.06-.94 2.06-2.06.94z\"/><path d=\"M17.41 7.96l-1.37-1.37c-.4-.4-.92-.59-1.43-.59-.52 0-1.04.2-1.43.59L10.3 9.45l-7.72 7.72c-.78.78-.78 2.05 0 2.83L4 21.41c.39.39.9.59 1.41.59.51 0 1.02-.2 1.41-.59l7.78-7.78 2.81-2.81c.8-.78.8-2.07 0-2.86zM5.41 20L4 18.59l7.72-7.72 1.47 1.35L5.41 20z\"/>\n",
              "  </svg>\n",
              "      </button>\n",
              "      \n",
              "  <style>\n",
              "    .colab-df-container {\n",
              "      display:flex;\n",
              "      flex-wrap:wrap;\n",
              "      gap: 12px;\n",
              "    }\n",
              "\n",
              "    .colab-df-convert {\n",
              "      background-color: #E8F0FE;\n",
              "      border: none;\n",
              "      border-radius: 50%;\n",
              "      cursor: pointer;\n",
              "      display: none;\n",
              "      fill: #1967D2;\n",
              "      height: 32px;\n",
              "      padding: 0 0 0 0;\n",
              "      width: 32px;\n",
              "    }\n",
              "\n",
              "    .colab-df-convert:hover {\n",
              "      background-color: #E2EBFA;\n",
              "      box-shadow: 0px 1px 2px rgba(60, 64, 67, 0.3), 0px 1px 3px 1px rgba(60, 64, 67, 0.15);\n",
              "      fill: #174EA6;\n",
              "    }\n",
              "\n",
              "    [theme=dark] .colab-df-convert {\n",
              "      background-color: #3B4455;\n",
              "      fill: #D2E3FC;\n",
              "    }\n",
              "\n",
              "    [theme=dark] .colab-df-convert:hover {\n",
              "      background-color: #434B5C;\n",
              "      box-shadow: 0px 1px 3px 1px rgba(0, 0, 0, 0.15);\n",
              "      filter: drop-shadow(0px 1px 2px rgba(0, 0, 0, 0.3));\n",
              "      fill: #FFFFFF;\n",
              "    }\n",
              "  </style>\n",
              "\n",
              "      <script>\n",
              "        const buttonEl =\n",
              "          document.querySelector('#df-6de90ac7-8898-4c01-a0a7-6f382d394705 button.colab-df-convert');\n",
              "        buttonEl.style.display =\n",
              "          google.colab.kernel.accessAllowed ? 'block' : 'none';\n",
              "\n",
              "        async function convertToInteractive(key) {\n",
              "          const element = document.querySelector('#df-6de90ac7-8898-4c01-a0a7-6f382d394705');\n",
              "          const dataTable =\n",
              "            await google.colab.kernel.invokeFunction('convertToInteractive',\n",
              "                                                     [key], {});\n",
              "          if (!dataTable) return;\n",
              "\n",
              "          const docLinkHtml = 'Like what you see? Visit the ' +\n",
              "            '<a target=\"_blank\" href=https://colab.research.google.com/notebooks/data_table.ipynb>data table notebook</a>'\n",
              "            + ' to learn more about interactive tables.';\n",
              "          element.innerHTML = '';\n",
              "          dataTable['output_type'] = 'display_data';\n",
              "          await google.colab.output.renderOutput(dataTable, element);\n",
              "          const docLink = document.createElement('div');\n",
              "          docLink.innerHTML = docLinkHtml;\n",
              "          element.appendChild(docLink);\n",
              "        }\n",
              "      </script>\n",
              "    </div>\n",
              "  </div>\n",
              "  "
            ]
          },
          "metadata": {},
          "execution_count": 3
        }
      ]
    },
    {
      "cell_type": "code",
      "source": [
        "mth_filter['Salnty']"
      ],
      "metadata": {
        "colab": {
          "base_uri": "https://localhost:8080/"
        },
        "id": "cCfjjPMg3S5p",
        "outputId": "ba075678-b477-4e2a-945c-ebf7ba64b02b"
      },
      "execution_count": 4,
      "outputs": [
        {
          "output_type": "execute_result",
          "data": {
            "text/plain": [
              "44.0    33.030\n",
              "44.0    32.920\n",
              "44.0    32.951\n",
              "44.0    32.990\n",
              "44.0    33.005\n",
              "         ...  \n",
              "36.7    34.370\n",
              "36.7    34.401\n",
              "36.7    34.440\n",
              "36.7    34.481\n",
              "36.7    34.500\n",
              "Name: Salnty, Length: 774, dtype: float64"
            ]
          },
          "metadata": {},
          "execution_count": 4
        }
      ]
    },
    {
      "cell_type": "code",
      "source": [
        "mth_filter['Salnty'].mean()"
      ],
      "metadata": {
        "colab": {
          "base_uri": "https://localhost:8080/"
        },
        "id": "tSjJ2BzU3Y2a",
        "outputId": "f36a943f-63df-4dc9-9706-5633208da2fc"
      },
      "execution_count": 5,
      "outputs": [
        {
          "output_type": "execute_result",
          "data": {
            "text/plain": [
              "33.601653746770026"
            ]
          },
          "metadata": {},
          "execution_count": 5
        }
      ]
    },
    {
      "cell_type": "code",
      "source": [
        "mth_filter[\"Salnty\"].mode()"
      ],
      "metadata": {
        "colab": {
          "base_uri": "https://localhost:8080/"
        },
        "id": "kLPmzfeN3nDT",
        "outputId": "4ed3a3f2-d383-4ee2-9485-e0f8ce22193b"
      },
      "execution_count": 6,
      "outputs": [
        {
          "output_type": "execute_result",
          "data": {
            "text/plain": [
              "0    32.74\n",
              "dtype: float64"
            ]
          },
          "metadata": {},
          "execution_count": 6
        }
      ]
    },
    {
      "cell_type": "code",
      "source": [
        "mth_filter[\"Salnty\"].median()"
      ],
      "metadata": {
        "colab": {
          "base_uri": "https://localhost:8080/"
        },
        "id": "4TsYSc1u4Ier",
        "outputId": "e2d3cab0-e6b3-4add-a2ad-86caea8d95e9"
      },
      "execution_count": 7,
      "outputs": [
        {
          "output_type": "execute_result",
          "data": {
            "text/plain": [
              "33.8485"
            ]
          },
          "metadata": {},
          "execution_count": 7
        }
      ]
    },
    {
      "cell_type": "code",
      "source": [
        "mth_filter[\"Salnty\"].describe()"
      ],
      "metadata": {
        "colab": {
          "base_uri": "https://localhost:8080/"
        },
        "id": "GxiD28xc4be8",
        "outputId": "07283a04-4593-4121-c4c4-abfae10021e7"
      },
      "execution_count": 8,
      "outputs": [
        {
          "output_type": "execute_result",
          "data": {
            "text/plain": [
              "count    774.000000\n",
              "mean      33.601654\n",
              "std        0.656640\n",
              "min       32.160000\n",
              "25%       32.900000\n",
              "50%       33.848500\n",
              "75%       34.187000\n",
              "max       34.520000\n",
              "Name: Salnty, dtype: float64"
            ]
          },
          "metadata": {},
          "execution_count": 8
        }
      ]
    },
    {
      "cell_type": "code",
      "source": [],
      "metadata": {
        "id": "CJ9SU-rk4j0A"
      },
      "execution_count": 8,
      "outputs": []
    }
  ]
}